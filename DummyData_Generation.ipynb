{
  "nbformat": 4,
  "nbformat_minor": 0,
  "metadata": {
    "colab": {
      "provenance": [],
      "authorship_tag": "ABX9TyOfXyM/XwtIej6CVXbd7AnO",
      "include_colab_link": true
    },
    "kernelspec": {
      "name": "python3",
      "display_name": "Python 3"
    },
    "language_info": {
      "name": "python"
    }
  },
  "cells": [
    {
      "cell_type": "markdown",
      "metadata": {
        "id": "view-in-github",
        "colab_type": "text"
      },
      "source": [
        "<a href=\"https://colab.research.google.com/github/gpostill/Applied-ML-for-Healthcare-Course-Project/blob/main/DummyData_Generation.ipynb\" target=\"_parent\"><img src=\"https://colab.research.google.com/assets/colab-badge.svg\" alt=\"Open In Colab\"/></a>"
      ]
    },
    {
      "cell_type": "markdown",
      "source": [
        "#Dummy Data Generation\n",
        "\n",
        "Below we create a dataset of 300 rows to run the code on. The acutal dataset consists of over 9000 rows and is confidential."
      ],
      "metadata": {
        "id": "vnqALisG0dV2"
      }
    },
    {
      "cell_type": "code",
      "execution_count": null,
      "metadata": {
        "id": "SP20FmxC0cUl"
      },
      "outputs": [],
      "source": [
        "import pandas as pd\n",
        "import numpy as np\n",
        "\n",
        "#Creating a DataFrame with random data\n",
        "np.random.seed(0)   #Set a random seed for reproducibility\n",
        "\n",
        "#Note that there may be inconsistencies in that some people will have diagnosis dates after their death date\n",
        "\n",
        "data = {'ID': range(1,301), #300 rows\n",
        "      'Age_death': np.random.randint(1,110,300),\n",
        "      'sex': np.random.randint(0,2,300), #0(Male), 1(Female)\n",
        "\n",
        "      #Adding the dconditions -- Random yes (1) / no (0) to indicate presence or absence of disease\n",
        "      'Asthma': np.random.randint(0,2,300),\n",
        "      'CHF': np.random.randint(0,2,300),\n",
        "      'COPD': np.random.randint(0,2,300),\n",
        "      'Myocardial_infarction': np.random.randint(0,2,300),\n",
        "      'Hypertension': np.random.randint(0,2,300),\n",
        "      'Arrhythmia': np.random.randint(0,2,300),\n",
        "      'CCS': np.random.randint(0,2,300),\n",
        "      'Stroke': np.random.randint(0,2,300),\n",
        "      'Cancer': np.random.randint(0,2,300),\n",
        "      'Dementia': np.random.randint(0,2,300),\n",
        "      'Renal_disease': np.random.randint(0,2,300), #I know this is spelt wrong but the analyst misspelled and I haven't changed\n",
        "      'Diabetes': np.random.randint(0,2,300),\n",
        "      'Osteoporosis': np.random.randint(0,2,300),\n",
        "      'Rheumatoid_Arthritis': np.random.randint(0,2,300),\n",
        "      'Osteo_Arthritis': np.random.randint(0,2,300),\n",
        "      'Mood_disorder': np.random.randint(0,2,300),\n",
        "      'Other_Mental_disorder': np.random.randint(0,2,300),\n",
        "\n",
        "      #Adding the random age of death\n",
        "      'Age_Asthma': np.random.randint(18,95,300),\n",
        "      'Age_CHF': np.random.randint(18,95,300),\n",
        "      'Age_COPD': np.random.randint(18,95,300),\n",
        "      'Age_Myocardial_infarction': np.random.randint(18,95,300),\n",
        "      'Age_Hypertension': np.random.randint(18,95,300),\n",
        "      'Age_Arrhythmia': np.random.randint(18,95,300),\n",
        "      'Age_CCS': np.random.randint(18,95,300),\n",
        "      'Age_Stroke': np.random.randint(18,95,300),\n",
        "      'Age_Cancer': np.random.randint(18,95,300),\n",
        "      'Age_Dementia': np.random.randint(18,95,300),\n",
        "      'Age_Renal_disease': np.random.randint(18,95,300), #I know this is spelt wrong but the analyst misspelled and I haven't changed\n",
        "      'Age_Diabetes': np.random.randint(18,95,300),\n",
        "      'Age_Osteoporosis': np.random.randint(18,95,300),\n",
        "      'Age_Rheumatoid_Arthritis': np.random.randint(18,95,300),\n",
        "      'Age_Osteo_Arthritis': np.random.randint(18,95,300),\n",
        "      'Age_Mood_disorder': np.random.randint(18,95,300),\n",
        "      'Age_Other_Mental_disorder': np.random.randint(18,95,300)\n",
        "\n",
        "      }\n",
        "\n",
        "#Formatting data into a dataframe structure\n",
        "df = pd.DataFrame(data)\n",
        "print(df)\n",
        "\n",
        "#Removing age of death if no dx:\n",
        "conditions = ['Asthma','CHF','COPD','Myocardial_infarction','Hypertension','Arrhythmia','CCS','Stroke','Cancer','Dementia',\n",
        "              'Renal_disease','Diabetes','Osteoporosis','Rheumatoid_Arthritis','Osteo_Arthritis','Mood_disorder','Other_Mental_disorder']\n",
        "\n",
        "age_conditions = ['Age_Asthma','Age_CHF','Age_COPD','Age_Myocardial_infarction','Age_Hypertension','Age_Arrhythmia','Age_CCS','Age_Stroke','Age_Cancer','Age_Dementia',\n",
        "                  'Age_Renal_disease','Age_Diabetes','Age_Osteoporosis','Age_Rheumatoid_Arthritis','Age_Osteo_Arthritis','Age_Mood_disorder','Age_Other_Mental_disorder']\n",
        "\n",
        "for cond,age in zip(conditions,age_conditions):\n",
        "    df.loc[df[cond] == 0, age] = np.nan\n",
        "\n",
        "\n",
        "#Creating a Premature Variable\n",
        "df['Premature'] = ''\n",
        "df.loc[df['Age_death'] < 75, 'Premature'] = 1\n",
        "df.loc[df['Age_death'] >= 75, 'Premature'] = 0\n",
        "\n",
        "\n",
        "#NOTE: I did not add missingness to other sociodemographic variables\n",
        "\n",
        "#exporting the data as a csv\n",
        "df.to_csv('DummyData.csv', index = False)"
      ]
    }
  ]
}